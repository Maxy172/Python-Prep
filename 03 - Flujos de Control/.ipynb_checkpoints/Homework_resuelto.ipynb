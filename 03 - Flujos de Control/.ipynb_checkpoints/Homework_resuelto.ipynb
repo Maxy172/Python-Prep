{
 "cells": [
  {
   "attachments": {},
   "cell_type": "markdown",
   "metadata": {},
   "source": [
    "1) Crear una variable que contenga un elemento del conjunto de números enteros y luego imprimir por pantalla si es mayor o menor a cero\n"
   ]
  },
  {
   "cell_type": "code",
   "execution_count": 2,
   "metadata": {},
   "outputs": [
    {
     "name": "stdout",
     "output_type": "stream",
     "text": [
      "El número es mayor a 0\n"
     ]
    }
   ],
   "source": [
    "a=8\n",
    "if (a>0):\n",
    "    print(\"El número es mayor a 0\")\n",
    "elif (a<0):\n",
    "    print(\"El número es menor a 0\")\n",
    "else:\n",
    "    print(\"El número es igual a 0\")"
   ]
  },
  {
   "attachments": {},
   "cell_type": "markdown",
   "metadata": {},
   "source": [
    "\n",
    "2) Crear dos variables y un condicional que informe si son del mismo tipo de dato\n"
   ]
  },
  {
   "cell_type": "code",
   "execution_count": 13,
   "metadata": {},
   "outputs": [
    {
     "name": "stdout",
     "output_type": "stream",
     "text": [
      "Los valores son diferentes tipo de datos\n"
     ]
    }
   ],
   "source": [
    "b=4\n",
    "c=\"Hola\" \n",
    "if (type(b)==type(c)):\n",
    "    print(\"Los valores son del mismo tipo de datos\")\n",
    "else:\n",
    "    print(\"Los valores son diferentes tipo de datos\")"
   ]
  },
  {
   "attachments": {},
   "cell_type": "markdown",
   "metadata": {},
   "source": [
    "\n",
    "3) Para los valores enteros del 1 al 20, imprimir por pantalla si es par o impar\n"
   ]
  },
  {
   "cell_type": "code",
   "execution_count": 16,
   "metadata": {},
   "outputs": [
    {
     "name": "stdout",
     "output_type": "stream",
     "text": [
      "El número 1 es impar\n",
      "El número 2 es par\n",
      "El número 3 es impar\n",
      "El número 4 es par\n",
      "El número 5 es impar\n",
      "El número 6 es par\n",
      "El número 7 es impar\n",
      "El número 8 es par\n",
      "El número 9 es impar\n",
      "El número 10 es par\n",
      "El número 11 es impar\n",
      "El número 12 es par\n",
      "El número 13 es impar\n",
      "El número 14 es par\n",
      "El número 15 es impar\n",
      "El número 16 es par\n",
      "El número 17 es impar\n",
      "El número 18 es par\n",
      "El número 19 es impar\n",
      "El número 20 es par\n"
     ]
    }
   ],
   "source": [
    "for d in range(1,21):\n",
    "    if (d%2==0):\n",
    "        print(\"El número\", d, \"es par\")\n",
    "    else:\n",
    "        print(\"El número\", d, \"es impar\")"
   ]
  },
  {
   "attachments": {},
   "cell_type": "markdown",
   "metadata": {},
   "source": [
    "\n",
    "4) En un ciclo for mostrar para los valores entre 0 y 5 el resultado de elevarlo a la potencia igual a 3\n"
   ]
  },
  {
   "cell_type": "code",
   "execution_count": 23,
   "metadata": {},
   "outputs": [
    {
     "name": "stdout",
     "output_type": "stream",
     "text": [
      "0 Elevado a la Tercera potencia es 0\n",
      "1 Elevado a la Tercera potencia es 1\n",
      "2 Elevado a la Tercera potencia es 8\n",
      "3 Elevado a la Tercera potencia es 27\n",
      "4 Elevado a la Tercera potencia es 64\n",
      "5 Elevado a la Tercera potencia es 125\n"
     ]
    }
   ],
   "source": [
    "for e in range (0,6):\n",
    "    print(e, \"Elevado a la Tercera potencia es\", e**3)"
   ]
  },
  {
   "attachments": {},
   "cell_type": "markdown",
   "metadata": {},
   "source": [
    "\n",
    "5) Crear una variable que contenga un número entero y realizar un ciclo for la misma cantidad de ciclos\n"
   ]
  },
  {
   "cell_type": "code",
   "execution_count": 18,
   "metadata": {},
   "outputs": [
    {
     "name": "stdout",
     "output_type": "stream",
     "text": [
      "1\n",
      "2\n",
      "3\n",
      "4\n",
      "5\n"
     ]
    }
   ],
   "source": [
    "f=5\n",
    "for f in range (1,6):\n",
    "    print(f)"
   ]
  },
  {
   "attachments": {},
   "cell_type": "markdown",
   "metadata": {},
   "source": [
    "\n",
    "6) Utilizar un ciclo while para realizar el factorial de un número guardado en una variable, sólo si la variable contiene un número entero mayor a 0 \n"
   ]
  },
  {
   "cell_type": "code",
   "execution_count": 103,
   "metadata": {},
   "outputs": [
    {
     "name": "stdout",
     "output_type": "stream",
     "text": [
      "El Factorial de 5 es 120\n"
     ]
    }
   ],
   "source": [
    "go=5\n",
    "if(type(go) == int):\n",
    "    if (go>0):\n",
    "        factorial=go\n",
    "        g=go\n",
    "        while(g>1):\n",
    "            g=g-1\n",
    "            factorial=factorial*g\n",
    "        print(\"El Factorial de\", go, \"es\", factorial)\n",
    "    else:\n",
    "        print(\"El valor debe ser mayor a 0\")\n",
    "else:\n",
    "    print(\"El valor debe ser un numero entero\")"
   ]
  },
  {
   "cell_type": "code",
   "execution_count": 25,
   "metadata": {},
   "outputs": [
    {
     "name": "stdout",
     "output_type": "stream",
     "text": [
      "El valor debe ser un numero entero\n"
     ]
    }
   ],
   "source": [
    "go=input(\"Ingrese aquí su valor\")\n",
    "if(type(go)==int):\n",
    "    if (go>0):\n",
    "        factorial=go\n",
    "        g=go\n",
    "        while(g>1):\n",
    "            g=g-1\n",
    "            factorial=factorial*g\n",
    "        print(\"El Factorial de\", go, \"es\", factorial)\n",
    "    else:\n",
    "        print(\"El valor debe ser mayor a 0\")\n",
    "else:\n",
    "    print(\"El valor debe ser un numero entero\")"
   ]
  },
  {
   "attachments": {},
   "cell_type": "markdown",
   "metadata": {},
   "source": [
    "7) Crear un ciclo for dentro de un ciclo while \n"
   ]
  },
  {
   "cell_type": "code",
   "execution_count": 26,
   "metadata": {},
   "outputs": [
    {
     "name": "stdout",
     "output_type": "stream",
     "text": [
      "5 es un numero while\n",
      "5 es un numero for\n",
      "5 es un numero for\n",
      "5 es un numero for\n",
      "5 es un numero for\n",
      "4 es un numero while\n",
      "4 es un numero for\n",
      "4 es un numero for\n",
      "4 es un numero for\n",
      "3 es un numero while\n",
      "3 es un numero for\n",
      "3 es un numero for\n",
      "2 es un numero while\n",
      "2 es un numero for\n",
      "1 es un numero while\n"
     ]
    }
   ],
   "source": [
    "h=5\n",
    "while (h>0):\n",
    "    print(h,\"es un numero while\")\n",
    "    for i in range(1,h):\n",
    "        print(h,\"es un numero for\")\n",
    "    h-=1"
   ]
  },
  {
   "attachments": {},
   "cell_type": "markdown",
   "metadata": {},
   "source": [
    "8) Crear un ciclo while dentro de un ciclo for \n"
   ]
  },
  {
   "cell_type": "code",
   "execution_count": 27,
   "metadata": {},
   "outputs": [
    {
     "name": "stdout",
     "output_type": "stream",
     "text": [
      "1 Es un ciclo for\n",
      "2 Es un ciclo while\n",
      "3 Es un ciclo while\n",
      "4 Es un ciclo while\n",
      "2 Es un ciclo for\n",
      "3 Es un ciclo while\n",
      "4 Es un ciclo while\n"
     ]
    }
   ],
   "source": [
    "j=1\n",
    "for j in range (1,3):\n",
    "    print(j, \"Es un ciclo for\")\n",
    "    while(j<4):\n",
    "        j=j+1\n",
    "        print(j, \"Es un ciclo while\")"
   ]
  },
  {
   "attachments": {},
   "cell_type": "markdown",
   "metadata": {},
   "source": [
    "9) Imprimir los números primos existentes entre 0 y 30"
   ]
  },
  {
   "cell_type": "code",
   "execution_count": 48,
   "metadata": {},
   "outputs": [
    {
     "name": "stdout",
     "output_type": "stream",
     "text": [
      "El numero 2 es un numero primo\n",
      "El numero 3 es un numero primo\n",
      "El numero 4 es un numero primo\n",
      "El numero 5 es un numero primo\n",
      "El numero 6 es un numero primo\n",
      "El numero 7 es un numero primo\n",
      "El numero 8 es un numero primo\n",
      "El numero 9 es un numero primo\n",
      "El numero 10 es un numero primo\n",
      "El numero 11 es un numero primo\n",
      "El numero 12 es un numero primo\n",
      "El numero 13 es un numero primo\n",
      "El numero 14 es un numero primo\n",
      "El numero 15 es un numero primo\n",
      "El numero 16 es un numero primo\n",
      "El numero 17 es un numero primo\n",
      "El numero 18 es un numero primo\n",
      "El numero 19 es un numero primo\n",
      "El numero 20 es un numero primo\n",
      "El numero 21 es un numero primo\n",
      "El numero 22 es un numero primo\n",
      "El numero 23 es un numero primo\n",
      "El numero 24 es un numero primo\n",
      "El numero 25 es un numero primo\n",
      "El numero 26 es un numero primo\n",
      "El numero 27 es un numero primo\n",
      "El numero 28 es un numero primo\n",
      "El numero 29 es un numero primo\n",
      "El numero 30 es un numero primo\n"
     ]
    }
   ],
   "source": [
    "k=2\n",
    "while(k<31):\n",
    "    k=k+1  \n",
    "    for l in range(2,k):\n",
    "        if l%k==0:\n",
    "            break\n",
    "    else:\n",
    "        print(\"El numero\",l,\"es un numero primo\")\n",
    "      "
   ]
  },
  {
   "cell_type": "code",
   "execution_count": 33,
   "metadata": {},
   "outputs": [
    {
     "name": "stdout",
     "output_type": "stream",
     "text": [
      "El numero 2 es un numero primo\n",
      "El numero 3 es un numero primo\n",
      "El numero 4 no es un numero primo\n",
      "El numero 4 es un numero primo\n",
      "El numero 5 es un numero primo\n",
      "El numero 6 no es un numero primo\n",
      "El numero 6 no es un numero primo\n",
      "El numero 6 es un numero primo\n",
      "El numero 7 es un numero primo\n",
      "El numero 8 no es un numero primo\n",
      "El numero 8 no es un numero primo\n",
      "El numero 8 es un numero primo\n",
      "El numero 9 no es un numero primo\n",
      "El numero 9 es un numero primo\n",
      "El numero 10 no es un numero primo\n",
      "El numero 10 no es un numero primo\n",
      "El numero 10 es un numero primo\n",
      "El numero 11 es un numero primo\n",
      "El numero 12 no es un numero primo\n",
      "El numero 12 no es un numero primo\n",
      "El numero 12 no es un numero primo\n",
      "El numero 12 no es un numero primo\n",
      "El numero 12 es un numero primo\n",
      "El numero 13 es un numero primo\n",
      "El numero 14 no es un numero primo\n",
      "El numero 14 no es un numero primo\n",
      "El numero 14 es un numero primo\n",
      "El numero 15 no es un numero primo\n",
      "El numero 15 no es un numero primo\n",
      "El numero 15 es un numero primo\n",
      "El numero 16 no es un numero primo\n",
      "El numero 16 no es un numero primo\n",
      "El numero 16 no es un numero primo\n",
      "El numero 16 es un numero primo\n",
      "El numero 17 es un numero primo\n",
      "El numero 18 no es un numero primo\n",
      "El numero 18 no es un numero primo\n",
      "El numero 18 no es un numero primo\n",
      "El numero 18 no es un numero primo\n",
      "El numero 18 es un numero primo\n",
      "El numero 19 es un numero primo\n",
      "El numero 20 no es un numero primo\n",
      "El numero 20 no es un numero primo\n",
      "El numero 20 no es un numero primo\n",
      "El numero 20 no es un numero primo\n",
      "El numero 20 es un numero primo\n",
      "El numero 21 no es un numero primo\n",
      "El numero 21 no es un numero primo\n",
      "El numero 21 es un numero primo\n",
      "El numero 22 no es un numero primo\n",
      "El numero 22 no es un numero primo\n",
      "El numero 22 es un numero primo\n",
      "El numero 23 es un numero primo\n",
      "El numero 24 no es un numero primo\n",
      "El numero 24 no es un numero primo\n",
      "El numero 24 no es un numero primo\n",
      "El numero 24 no es un numero primo\n",
      "El numero 24 no es un numero primo\n",
      "El numero 24 no es un numero primo\n",
      "El numero 24 es un numero primo\n",
      "El numero 25 no es un numero primo\n",
      "El numero 25 es un numero primo\n",
      "El numero 26 no es un numero primo\n",
      "El numero 26 no es un numero primo\n",
      "El numero 26 es un numero primo\n",
      "El numero 27 no es un numero primo\n",
      "El numero 27 no es un numero primo\n",
      "El numero 27 es un numero primo\n",
      "El numero 28 no es un numero primo\n",
      "El numero 28 no es un numero primo\n",
      "El numero 28 no es un numero primo\n",
      "El numero 28 no es un numero primo\n",
      "El numero 28 es un numero primo\n",
      "El numero 29 es un numero primo\n",
      "El numero 30 no es un numero primo\n",
      "El numero 30 no es un numero primo\n",
      "El numero 30 no es un numero primo\n",
      "El numero 30 no es un numero primo\n",
      "El numero 30 no es un numero primo\n",
      "El numero 30 no es un numero primo\n",
      "El numero 30 es un numero primo\n"
     ]
    }
   ],
   "source": [
    "for k in range (2,31):\n",
    "    for l in range(2,k):\n",
    "        if k % l==0:\n",
    "            print(\"El numero\",k,\"no es un numero primo\")\n",
    "    else:\n",
    "        print(\"El numero\",k,\"es un numero primo\")"
   ]
  },
  {
   "attachments": {},
   "cell_type": "markdown",
   "metadata": {},
   "source": [
    "10) ¿Se puede mejorar el proceso del punto 9? Utilizar las sentencias break y/ó continue para tal fin\n"
   ]
  },
  {
   "cell_type": "code",
   "execution_count": 34,
   "metadata": {},
   "outputs": [
    {
     "name": "stdout",
     "output_type": "stream",
     "text": [
      "El numero 2 es un numero primo\n",
      "El numero 3 es un numero primo\n",
      "El numero 5 es un numero primo\n",
      "El numero 7 es un numero primo\n",
      "El numero 11 es un numero primo\n",
      "El numero 13 es un numero primo\n",
      "El numero 17 es un numero primo\n",
      "El numero 19 es un numero primo\n",
      "El numero 23 es un numero primo\n",
      "El numero 29 es un numero primo\n"
     ]
    }
   ],
   "source": [
    "for k in range (2,31):\n",
    "    for l in range(2,k):\n",
    "        if k % l==0:\n",
    "            break\n",
    "    else:\n",
    "        print(\"El numero\",k,\"es un numero primo\")\n"
   ]
  },
  {
   "cell_type": "code",
   "execution_count": 4,
   "metadata": {},
   "outputs": [
    {
     "name": "stdout",
     "output_type": "stream",
     "text": [
      "El numero 2 es un numero primo\n",
      "El numero 3 es un numero primo\n",
      "El numero 4 no es un numero primo\n",
      "El numero 4 es un numero primo\n",
      "El numero 5 es un numero primo\n",
      "El numero 6 no es un numero primo\n",
      "El numero 6 no es un numero primo\n",
      "El numero 6 es un numero primo\n",
      "El numero 7 es un numero primo\n",
      "El numero 8 no es un numero primo\n",
      "El numero 8 no es un numero primo\n",
      "El numero 8 es un numero primo\n",
      "El numero 9 no es un numero primo\n",
      "El numero 9 es un numero primo\n",
      "El numero 10 no es un numero primo\n",
      "El numero 10 no es un numero primo\n",
      "El numero 10 es un numero primo\n",
      "El numero 11 es un numero primo\n",
      "El numero 12 no es un numero primo\n",
      "El numero 12 no es un numero primo\n",
      "El numero 12 no es un numero primo\n",
      "El numero 12 no es un numero primo\n",
      "El numero 12 es un numero primo\n",
      "El numero 13 es un numero primo\n",
      "El numero 14 no es un numero primo\n",
      "El numero 14 no es un numero primo\n",
      "El numero 14 es un numero primo\n",
      "El numero 15 no es un numero primo\n",
      "El numero 15 no es un numero primo\n",
      "El numero 15 es un numero primo\n",
      "El numero 16 no es un numero primo\n",
      "El numero 16 no es un numero primo\n",
      "El numero 16 no es un numero primo\n",
      "El numero 16 es un numero primo\n",
      "El numero 17 es un numero primo\n",
      "El numero 18 no es un numero primo\n",
      "El numero 18 no es un numero primo\n",
      "El numero 18 no es un numero primo\n",
      "El numero 18 no es un numero primo\n",
      "El numero 18 es un numero primo\n",
      "El numero 19 es un numero primo\n",
      "El numero 20 no es un numero primo\n",
      "El numero 20 no es un numero primo\n",
      "El numero 20 no es un numero primo\n",
      "El numero 20 no es un numero primo\n",
      "El numero 20 es un numero primo\n",
      "El numero 21 no es un numero primo\n",
      "El numero 21 no es un numero primo\n",
      "El numero 21 es un numero primo\n",
      "El numero 22 no es un numero primo\n",
      "El numero 22 no es un numero primo\n",
      "El numero 22 es un numero primo\n",
      "El numero 23 es un numero primo\n",
      "El numero 24 no es un numero primo\n",
      "El numero 24 no es un numero primo\n",
      "El numero 24 no es un numero primo\n",
      "El numero 24 no es un numero primo\n",
      "El numero 24 no es un numero primo\n",
      "El numero 24 no es un numero primo\n",
      "El numero 24 es un numero primo\n",
      "El numero 25 no es un numero primo\n",
      "El numero 25 es un numero primo\n",
      "El numero 26 no es un numero primo\n",
      "El numero 26 no es un numero primo\n",
      "El numero 26 es un numero primo\n",
      "El numero 27 no es un numero primo\n",
      "El numero 27 no es un numero primo\n",
      "El numero 27 es un numero primo\n",
      "El numero 28 no es un numero primo\n",
      "El numero 28 no es un numero primo\n",
      "El numero 28 no es un numero primo\n",
      "El numero 28 no es un numero primo\n",
      "El numero 28 es un numero primo\n",
      "El numero 29 es un numero primo\n",
      "El numero 30 no es un numero primo\n",
      "El numero 30 no es un numero primo\n",
      "El numero 30 no es un numero primo\n",
      "El numero 30 no es un numero primo\n",
      "El numero 30 no es un numero primo\n",
      "El numero 30 no es un numero primo\n",
      "El numero 30 es un numero primo\n"
     ]
    }
   ],
   "source": [
    "for k in range (2,31):\n",
    "    for l in range(2,k):\n",
    "        if k % l==0:\n",
    "            print(\"El numero\",k,\"no es un numero primo\")\n",
    "    else:\n",
    "        print(\"El numero\",k,\"es un numero primo\")"
   ]
  },
  {
   "attachments": {},
   "cell_type": "markdown",
   "metadata": {},
   "source": [
    "11) En los puntos 9 y 10, se diseño un código que encuentra números primos y además se lo optimizó. ¿Es posible saber en qué medida se optimizó?"
   ]
  },
  {
   "cell_type": "code",
   "execution_count": 16,
   "metadata": {},
   "outputs": [
    {
     "name": "stdout",
     "output_type": "stream",
     "text": [
      "El numero 2 es un numero primo\n",
      "El numero 3 es un numero primo\n",
      "El numero 4 no es un numero primo\n",
      "El numero 4 es un numero primo\n",
      "El numero 5 es un numero primo\n",
      "El numero 6 no es un numero primo\n",
      "El numero 6 no es un numero primo\n",
      "El numero 6 es un numero primo\n",
      "El numero 7 es un numero primo\n",
      "El numero 8 no es un numero primo\n",
      "El numero 8 no es un numero primo\n",
      "El numero 8 es un numero primo\n",
      "El numero 9 no es un numero primo\n",
      "El numero 9 es un numero primo\n",
      "El numero 10 no es un numero primo\n",
      "El numero 10 no es un numero primo\n",
      "El numero 10 es un numero primo\n",
      "El numero 11 es un numero primo\n",
      "El numero 12 no es un numero primo\n",
      "El numero 12 no es un numero primo\n",
      "El numero 12 no es un numero primo\n",
      "El numero 12 no es un numero primo\n",
      "El numero 12 es un numero primo\n",
      "El numero 13 es un numero primo\n",
      "El numero 14 no es un numero primo\n",
      "El numero 14 no es un numero primo\n",
      "El numero 14 es un numero primo\n",
      "El numero 15 no es un numero primo\n",
      "El numero 15 no es un numero primo\n",
      "El numero 15 es un numero primo\n",
      "El numero 16 no es un numero primo\n",
      "El numero 16 no es un numero primo\n",
      "El numero 16 no es un numero primo\n",
      "El numero 16 es un numero primo\n",
      "El numero 17 es un numero primo\n",
      "El numero 18 no es un numero primo\n",
      "El numero 18 no es un numero primo\n",
      "El numero 18 no es un numero primo\n",
      "El numero 18 no es un numero primo\n",
      "El numero 18 es un numero primo\n",
      "El numero 19 es un numero primo\n",
      "El numero 20 no es un numero primo\n",
      "El numero 20 no es un numero primo\n",
      "El numero 20 no es un numero primo\n",
      "El numero 20 no es un numero primo\n",
      "El numero 20 es un numero primo\n",
      "El numero 21 no es un numero primo\n",
      "El numero 21 no es un numero primo\n",
      "El numero 21 es un numero primo\n",
      "El numero 22 no es un numero primo\n",
      "El numero 22 no es un numero primo\n",
      "El numero 22 es un numero primo\n",
      "El numero 23 es un numero primo\n",
      "El numero 24 no es un numero primo\n",
      "El numero 24 no es un numero primo\n",
      "El numero 24 no es un numero primo\n",
      "El numero 24 no es un numero primo\n",
      "El numero 24 no es un numero primo\n",
      "El numero 24 no es un numero primo\n",
      "El numero 24 es un numero primo\n",
      "El numero 25 no es un numero primo\n",
      "El numero 25 es un numero primo\n",
      "El numero 26 no es un numero primo\n",
      "El numero 26 no es un numero primo\n",
      "El numero 26 es un numero primo\n",
      "El numero 27 no es un numero primo\n",
      "El numero 27 no es un numero primo\n",
      "El numero 27 es un numero primo\n",
      "El numero 28 no es un numero primo\n",
      "El numero 28 no es un numero primo\n",
      "El numero 28 no es un numero primo\n",
      "El numero 28 no es un numero primo\n",
      "El numero 28 es un numero primo\n",
      "El numero 29 es un numero primo\n",
      "El numero 30 no es un numero primo\n",
      "El numero 30 no es un numero primo\n",
      "El numero 30 no es un numero primo\n",
      "El numero 30 no es un numero primo\n",
      "El numero 30 no es un numero primo\n",
      "El numero 30 no es un numero primo\n",
      "El numero 30 es un numero primo\n",
      "El numero contador es 407\n"
     ]
    }
   ],
   "source": [
    "contador_sin_break=1\n",
    "for k in range (2,31):\n",
    "    for l in range(2,k):\n",
    "        contador_sin_break=contador_sin_break+1\n",
    "        if k % l==0:\n",
    "            print(\"El numero\",k,\"no es un numero primo\")\n",
    "    else:\n",
    "        print(\"El numero\",k,\"es un numero primo\")\n",
    "print(\"El numero contador es\",contador_sin_break)"
   ]
  },
  {
   "cell_type": "code",
   "execution_count": 41,
   "metadata": {},
   "outputs": [
    {
     "name": "stdout",
     "output_type": "stream",
     "text": [
      "El numero 2 es un numero primo\n",
      "El numero 3 es un numero primo\n",
      "El numero 5 es un numero primo\n",
      "El numero 7 es un numero primo\n",
      "El numero 11 es un numero primo\n",
      "El numero 13 es un numero primo\n",
      "El numero 17 es un numero primo\n",
      "El numero 19 es un numero primo\n",
      "El numero 23 es un numero primo\n",
      "El numero 29 es un numero primo\n",
      "El numero contador es 136\n",
      "Se optimizó a un 2.860748843079512% de ciclos aplicando break\n"
     ]
    }
   ],
   "source": [
    "contador_con_break=1\n",
    "for k in range (2,31):\n",
    "    for l in range(2,k):\n",
    "        contador_con_break=contador_con_break+1\n",
    "        if k % l==0:\n",
    "            break\n",
    "    else:\n",
    "        print(\"El numero\",k,\"es un numero primo\")\n",
    "print(\"El numero contador es\",contador_con_break)\n",
    "print('Se optimizó a un ' + str((contador_con_break/contador_sin_break)*100) + '% de ciclos aplicando break')"
   ]
  },
  {
   "cell_type": "markdown",
   "metadata": {},
   "source": [
    "\n",
    "12) Si la cantidad de números que se evalúa es mayor a treinta, esa optimización crece?\n"
   ]
  },
  {
   "attachments": {},
   "cell_type": "markdown",
   "metadata": {},
   "source": [
    "13) Aplicando continue, armar un ciclo while que solo imprima los valores divisibles por 12, dentro del rango de números de 100 a 300\n"
   ]
  },
  {
   "cell_type": "code",
   "execution_count": 76,
   "metadata": {},
   "outputs": [
    {
     "name": "stdout",
     "output_type": "stream",
     "text": [
      "El numero 108 es divisible por 12\n",
      "El numero 120 es divisible por 12\n",
      "El numero 132 es divisible por 12\n",
      "El numero 144 es divisible por 12\n",
      "El numero 156 es divisible por 12\n",
      "El numero 168 es divisible por 12\n",
      "El numero 180 es divisible por 12\n",
      "El numero 192 es divisible por 12\n",
      "El numero 204 es divisible por 12\n",
      "El numero 216 es divisible por 12\n",
      "El numero 228 es divisible por 12\n",
      "El numero 240 es divisible por 12\n",
      "El numero 252 es divisible por 12\n",
      "El numero 264 es divisible por 12\n",
      "El numero 276 es divisible por 12\n",
      "El numero 288 es divisible por 12\n",
      "El numero 300 es divisible por 12\n"
     ]
    }
   ],
   "source": [
    "k=99\n",
    "while(k<300):\n",
    "    k=k+1\n",
    "    if k%12!=0:\n",
    "        continue\n",
    "    else:\n",
    "        print(\"El numero\",k,\"es divisible por 12\")"
   ]
  },
  {
   "attachments": {},
   "cell_type": "markdown",
   "metadata": {},
   "source": [
    "14) Utilizar la función **input()** que permite hacer ingresos por teclado, para encontrar números primos y dar la opción al usario de buscar el siguiente\n"
   ]
  },
  {
   "cell_type": "code",
   "execution_count": 125,
   "metadata": {},
   "outputs": [
    {
     "ename": "TypeError",
     "evalue": "'>' not supported between instances of 'str' and 'int'",
     "output_type": "error",
     "traceback": [
      "\u001b[1;31m---------------------------------------------------------------------------\u001b[0m",
      "\u001b[1;31mTypeError\u001b[0m                                 Traceback (most recent call last)",
      "Cell \u001b[1;32mIn[125], line 2\u001b[0m\n\u001b[0;32m      1\u001b[0m m\u001b[39m=\u001b[39m\u001b[39minput\u001b[39m(\u001b[39m\"\u001b[39m\u001b[39mIngrese aquí su número\u001b[39m\u001b[39m\"\u001b[39m)\n\u001b[1;32m----> 2\u001b[0m \u001b[39mwhile\u001b[39;00m(m\u001b[39m>\u001b[39;49m\u001b[39m0\u001b[39;49m):\n\u001b[0;32m      3\u001b[0m     \u001b[39mif\u001b[39;00m m\u001b[39m%\u001b[39m\u001b[39m2\u001b[39m \u001b[39m==\u001b[39m \u001b[39m0\u001b[39m:\n\u001b[0;32m      4\u001b[0m         \u001b[39mprint\u001b[39m(\u001b[39m\"\u001b[39m\u001b[39mEl numero\u001b[39m\u001b[39m\"\u001b[39m,m,\u001b[39m\"\u001b[39m\u001b[39mno es un numero primo\u001b[39m\u001b[39m\"\u001b[39m)\n",
      "\u001b[1;31mTypeError\u001b[0m: '>' not supported between instances of 'str' and 'int'"
     ]
    }
   ],
   "source": [
    "m=input(\"Ingrese aquí su número\")\n",
    "while(m>0):\n",
    "    if m%2 == 0:\n",
    "        print(\"El numero\",m,\"no es un numero primo\")\n",
    "    else:\n",
    "        print(\"El numero\",m,\"es un numero primo\")"
   ]
  },
  {
   "cell_type": "markdown",
   "metadata": {},
   "source": [
    "\n",
    "15) Crear un ciclo while que encuentre dentro del rango de 100 a 300 el primer número divisible por 3 y además múltiplo de 6\n"
   ]
  },
  {
   "cell_type": "code",
   "execution_count": 45,
   "metadata": {},
   "outputs": [
    {
     "name": "stdout",
     "output_type": "stream",
     "text": [
      "El numero 102 es divisible por 3 y múltiplo de 6\n"
     ]
    }
   ],
   "source": [
    "k=99\n",
    "while(k<300):\n",
    "    k=k+1\n",
    "    if k%6!=0:\n",
    "        continue\n",
    "    else:\n",
    "        print(\"El numero\",k,\"es divisible por 3 y múltiplo de 6\")\n",
    "        break"
   ]
  }
 ],
 "metadata": {
  "kernelspec": {
   "display_name": "Python 3",
   "language": "python",
   "name": "python3"
  },
  "language_info": {
   "codemirror_mode": {
    "name": "ipython",
    "version": 3
   },
   "file_extension": ".py",
   "mimetype": "text/x-python",
   "name": "python",
   "nbconvert_exporter": "python",
   "pygments_lexer": "ipython3",
   "version": "3.10.9"
  },
  "orig_nbformat": 4,
  "vscode": {
   "interpreter": {
    "hash": "01c1b94cb7ebdbe78d62d0627060d9f397cf6e23d9564c4ea21859c204504f7a"
   }
  }
 },
 "nbformat": 4,
 "nbformat_minor": 2
}

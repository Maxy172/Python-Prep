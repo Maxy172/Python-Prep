{
 "cells": [
  {
   "cell_type": "code",
   "execution_count": null,
   "metadata": {},
   "outputs": [],
   "source": []
  },
  {
   "cell_type": "code",
   "execution_count": 2,
   "metadata": {},
   "outputs": [
    {
     "name": "stdout",
     "output_type": "stream",
     "text": [
      "H\n",
      "o\n",
      "l\n",
      "a\n"
     ]
    }
   ],
   "source": [
    "cadena = \"Hola\"\n",
    "for c in cadena:\n",
    "    print(c)\n"
   ]
  },
  {
   "cell_type": "code",
   "execution_count": 3,
   "metadata": {},
   "outputs": [
    {
     "name": "stdout",
     "output_type": "stream",
     "text": [
      "0 H\n",
      "1 o\n",
      "2 l\n",
      "3 a\n"
     ]
    }
   ],
   "source": [
    "cadena = \"Hola\"\n",
    "for i, c in enumerate(cadena):\n",
    "   print(i, c)\n"
   ]
  },
  {
   "cell_type": "code",
   "execution_count": 6,
   "metadata": {},
   "outputs": [
    {
     "ename": "ImportError",
     "evalue": "cannot import name 'Iterable' from 'collections' (c:\\Users\\Maxi\\AppData\\Local\\Programs\\Python\\Python310\\lib\\collections\\__init__.py)",
     "output_type": "error",
     "traceback": [
      "\u001b[1;31m---------------------------------------------------------------------------\u001b[0m",
      "\u001b[1;31mImportError\u001b[0m                               Traceback (most recent call last)",
      "Cell \u001b[1;32mIn[6], line 1\u001b[0m\n\u001b[1;32m----> 1\u001b[0m \u001b[39mfrom\u001b[39;00m \u001b[39mcollections\u001b[39;00m \u001b[39mimport\u001b[39;00m Iterable\n\u001b[0;32m      2\u001b[0m cadena \u001b[39m=\u001b[39m \u001b[39m\"\u001b[39m\u001b[39mHola\u001b[39m\u001b[39m\"\u001b[39m\n\u001b[0;32m      3\u001b[0m numero \u001b[39m=\u001b[39m \u001b[39m3\u001b[39m\n",
      "\u001b[1;31mImportError\u001b[0m: cannot import name 'Iterable' from 'collections' (c:\\Users\\Maxi\\AppData\\Local\\Programs\\Python\\Python310\\lib\\collections\\__init__.py)"
     ]
    }
   ],
   "source": [
    "from collections import Iterable\n",
    "cadena = \"Hola\"\n",
    "numero = 3\n",
    "print(\"cadena\", isinstance(cadena, Iterable))\n",
    "print(\"numero\", isinstance(numero, Iterable))\n"
   ]
  },
  {
   "cell_type": "code",
   "execution_count": 13,
   "metadata": {},
   "outputs": [
    {
     "name": "stdout",
     "output_type": "stream",
     "text": [
      "['H', 'o', 'l', 'a', ' ', 'C', 'a', 'r', 'o', 'l', 'a']\n"
     ]
    }
   ],
   "source": [
    "print(list(\"Hola Carola\"))"
   ]
  },
  {
   "cell_type": "code",
   "execution_count": 12,
   "metadata": {},
   "outputs": [
    {
     "name": "stdout",
     "output_type": "stream",
     "text": [
      "738\n"
     ]
    }
   ],
   "source": [
    "print(sum([126, 238, 374]))"
   ]
  },
  {
   "cell_type": "code",
   "execution_count": 11,
   "metadata": {},
   "outputs": [
    {
     "name": "stdout",
     "output_type": "stream",
     "text": [
      "H*o*l*a\n"
     ]
    }
   ],
   "source": [
    "print(\"*\".join(\"Hola\"))"
   ]
  },
  {
   "cell_type": "code",
   "execution_count": 14,
   "metadata": {},
   "outputs": [
    {
     "name": "stdout",
     "output_type": "stream",
     "text": [
      "a\n",
      "b\n",
      "c\n"
     ]
    }
   ],
   "source": [
    "mi_dict = {'a':1, 'b':2, 'c':3}\n",
    "for i in mi_dict:\n",
    "    print(i)\n"
   ]
  },
  {
   "cell_type": "code",
   "execution_count": 19,
   "metadata": {},
   "outputs": [
    {
     "name": "stdout",
     "output_type": "stream",
     "text": [
      "página1\n",
      "página2\n",
      "página3\n",
      "página4\n"
     ]
    },
    {
     "ename": "StopIteration",
     "evalue": "",
     "output_type": "error",
     "traceback": [
      "\u001b[1;31m---------------------------------------------------------------------------\u001b[0m",
      "\u001b[1;31mStopIteration\u001b[0m                             Traceback (most recent call last)",
      "Cell \u001b[1;32mIn[19], line 7\u001b[0m\n\u001b[0;32m      5\u001b[0m \u001b[39mprint\u001b[39m(\u001b[39mnext\u001b[39m(marcapaginas))\n\u001b[0;32m      6\u001b[0m \u001b[39mprint\u001b[39m(\u001b[39mnext\u001b[39m(marcapaginas))\n\u001b[1;32m----> 7\u001b[0m \u001b[39mprint\u001b[39m(\u001b[39mnext\u001b[39;49m(marcapaginas))\n",
      "\u001b[1;31mStopIteration\u001b[0m: "
     ]
    }
   ],
   "source": [
    "libro = ['página1', 'página2', 'página3', 'página4']\n",
    "marcapaginas = iter(libro)\n",
    "print(next(marcapaginas))\n",
    "print(next(marcapaginas))\n",
    "print(next(marcapaginas))\n",
    "print(next(marcapaginas))\n",
    "print(next(marcapaginas))\n",
    "\n",
    "\n",
    "\n"
   ]
  },
  {
   "cell_type": "code",
   "execution_count": 22,
   "metadata": {},
   "outputs": [
    {
     "name": "stdout",
     "output_type": "stream",
     "text": [
      "<class 'zip'>\n",
      "[(1, 'Uno'), (2, 'Dos')]\n"
     ]
    }
   ],
   "source": [
    "a = [1, 2]\n",
    "b = [\"Uno\", \"Dos\"]\n",
    "c = zip(a, b)\n",
    "print(type(c))\n",
    "print(list(c))"
   ]
  },
  {
   "cell_type": "code",
   "execution_count": 31,
   "metadata": {},
   "outputs": [
    {
     "name": "stdout",
     "output_type": "stream",
     "text": [
      "['r', 'r', 'r', 'r']\n",
      "4\n"
     ]
    }
   ],
   "source": [
    "frase = \"El perro de san roque no tiene rabo\"\n",
    "erres = [i for i in frase if i == 'r']\n",
    "print(erres)\n",
    "print(len(erres))\n"
   ]
  }
 ],
 "metadata": {
  "kernelspec": {
   "display_name": "Python 3",
   "language": "python",
   "name": "python3"
  },
  "language_info": {
   "codemirror_mode": {
    "name": "ipython",
    "version": 3
   },
   "file_extension": ".py",
   "mimetype": "text/x-python",
   "name": "python",
   "nbconvert_exporter": "python",
   "pygments_lexer": "ipython3",
   "version": "3.10.9"
  },
  "orig_nbformat": 4,
  "vscode": {
   "interpreter": {
    "hash": "01c1b94cb7ebdbe78d62d0627060d9f397cf6e23d9564c4ea21859c204504f7a"
   }
  }
 },
 "nbformat": 4,
 "nbformat_minor": 2
}

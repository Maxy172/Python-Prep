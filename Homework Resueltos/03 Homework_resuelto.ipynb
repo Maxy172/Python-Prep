{
 "cells": [
  {
   "attachments": {},
   "cell_type": "markdown",
   "metadata": {},
   "source": [
    "1) Crear una variable que contenga un elemento del conjunto de números enteros y luego imprimir por pantalla si es mayor o menor a cero\n"
   ]
  },
  {
   "cell_type": "code",
   "execution_count": 1,
   "metadata": {},
   "outputs": [
    {
     "name": "stdout",
     "output_type": "stream",
     "text": [
      "El número es mayor a 0\n"
     ]
    }
   ],
   "source": [
    "a=8\n",
    "if (a>0):\n",
    "    print(\"El número es mayor a 0\")\n",
    "elif (a<0):\n",
    "    print(\"El número es menor a 0\")\n",
    "else:\n",
    "    print(\"El número es igual a 0\")"
   ]
  },
  {
   "attachments": {},
   "cell_type": "markdown",
   "metadata": {},
   "source": [
    "\n",
    "2) Crear dos variables y un condicional que informe si son del mismo tipo de dato\n"
   ]
  },
  {
   "cell_type": "code",
   "execution_count": 2,
   "metadata": {},
   "outputs": [
    {
     "name": "stdout",
     "output_type": "stream",
     "text": [
      "Los valores son diferentes tipos de datos\n"
     ]
    }
   ],
   "source": [
    "b=4\n",
    "c=\"Hola\" \n",
    "if (type(b)==type(c)):\n",
    "    print(\"Los valores son del mismo tipos de datos\")\n",
    "else:\n",
    "    print(\"Los valores son diferentes tipos de datos\")"
   ]
  },
  {
   "attachments": {},
   "cell_type": "markdown",
   "metadata": {},
   "source": [
    "\n",
    "3) Para los valores enteros del 1 al 20, imprimir por pantalla si es par o impar\n"
   ]
  },
  {
   "cell_type": "code",
   "execution_count": 4,
   "metadata": {},
   "outputs": [
    {
     "name": "stdout",
     "output_type": "stream",
     "text": [
      "El número 1 es impar\n",
      "El número 2 es par\n",
      "El número 3 es impar\n",
      "El número 4 es par\n",
      "El número 5 es impar\n",
      "El número 6 es par\n",
      "El número 7 es impar\n",
      "El número 8 es par\n",
      "El número 9 es impar\n",
      "El número 10 es par\n",
      "El número 11 es impar\n",
      "El número 12 es par\n",
      "El número 13 es impar\n",
      "El número 14 es par\n",
      "El número 15 es impar\n",
      "El número 16 es par\n",
      "El número 17 es impar\n",
      "El número 18 es par\n",
      "El número 19 es impar\n",
      "El número 20 es par\n"
     ]
    }
   ],
   "source": [
    "for d in range(1,21):\n",
    "    if (d%2==0):\n",
    "        print(\"El número \"+str(d)+\" es par\")\n",
    "    else:\n",
    "        print(\"El número \"+str(d)+\" es impar\")"
   ]
  },
  {
   "attachments": {},
   "cell_type": "markdown",
   "metadata": {},
   "source": [
    "\n",
    "4) En un ciclo for mostrar para los valores entre 0 y 5 el resultado de elevarlo a la potencia igual a 3\n"
   ]
  },
  {
   "cell_type": "code",
   "execution_count": 7,
   "metadata": {},
   "outputs": [
    {
     "name": "stdout",
     "output_type": "stream",
     "text": [
      "El número 0 elevado a la tercera potencia es 0\n",
      "El número 1 elevado a la tercera potencia es 1\n",
      "El número 2 elevado a la tercera potencia es 8\n",
      "El número 3 elevado a la tercera potencia es 27\n",
      "El número 4 elevado a la tercera potencia es 64\n",
      "El número 5 elevado a la tercera potencia es 125\n"
     ]
    }
   ],
   "source": [
    "for e in range (0,6):\n",
    "    print(\"El número \"+str(e)+\" elevado a la tercera potencia es \"+str(e**3))"
   ]
  },
  {
   "attachments": {},
   "cell_type": "markdown",
   "metadata": {},
   "source": [
    "\n",
    "5) Crear una variable que contenga un número entero y realizar un ciclo for la misma cantidad de ciclos\n"
   ]
  },
  {
   "cell_type": "code",
   "execution_count": 3,
   "metadata": {},
   "outputs": [
    {
     "name": "stdout",
     "output_type": "stream",
     "text": [
      "Ciclo número 1\n",
      "Ciclo número 2\n",
      "Ciclo número 3\n",
      "Ciclo número 4\n",
      "Ciclo número 5\n"
     ]
    }
   ],
   "source": [
    "f=5\n",
    "for f in range (1,6):\n",
    "    print(\"Ciclo número \"+str(f))"
   ]
  },
  {
   "attachments": {},
   "cell_type": "markdown",
   "metadata": {},
   "source": [
    "\n",
    "6) Utilizar un ciclo while para realizar el factorial de un número guardado en una variable, sólo si la variable contiene un número entero mayor a 0 \n"
   ]
  },
  {
   "cell_type": "code",
   "execution_count": 12,
   "metadata": {},
   "outputs": [
    {
     "name": "stdout",
     "output_type": "stream",
     "text": [
      "El Factorial de 5 es 120\n"
     ]
    }
   ],
   "source": [
    "go=5\n",
    "if(type(go) == int):\n",
    "    if (go>0):\n",
    "        factorial=go\n",
    "        g=go\n",
    "        while(g>1):\n",
    "            g=g-1\n",
    "            factorial=factorial*g\n",
    "        print(\"El Factorial de\", go, \"es\", factorial)\n",
    "    else:\n",
    "        print(\"El valor debe ser mayor a 0\")\n",
    "else:\n",
    "    print(\"El valor debe ser un numero entero\")"
   ]
  },
  {
   "attachments": {},
   "cell_type": "markdown",
   "metadata": {},
   "source": [
    "7) Crear un ciclo for dentro de un ciclo while \n"
   ]
  },
  {
   "cell_type": "code",
   "execution_count": 13,
   "metadata": {},
   "outputs": [
    {
     "name": "stdout",
     "output_type": "stream",
     "text": [
      "5 es un numero while\n",
      "5 es un numero for\n",
      "5 es un numero for\n",
      "5 es un numero for\n",
      "5 es un numero for\n",
      "4 es un numero while\n",
      "4 es un numero for\n",
      "4 es un numero for\n",
      "4 es un numero for\n",
      "3 es un numero while\n",
      "3 es un numero for\n",
      "3 es un numero for\n",
      "2 es un numero while\n",
      "2 es un numero for\n",
      "1 es un numero while\n"
     ]
    }
   ],
   "source": [
    "h=5\n",
    "while (h>0):\n",
    "    print(h,\"es un numero while\")\n",
    "    for i in range(1,h):\n",
    "        print(h,\"es un numero for\")\n",
    "    h-=1"
   ]
  },
  {
   "attachments": {},
   "cell_type": "markdown",
   "metadata": {},
   "source": [
    "8) Crear un ciclo while dentro de un ciclo for \n"
   ]
  },
  {
   "cell_type": "code",
   "execution_count": 27,
   "metadata": {},
   "outputs": [
    {
     "name": "stdout",
     "output_type": "stream",
     "text": [
      "1 Es un ciclo for\n",
      "2 Es un ciclo while\n",
      "3 Es un ciclo while\n",
      "4 Es un ciclo while\n",
      "2 Es un ciclo for\n",
      "3 Es un ciclo while\n",
      "4 Es un ciclo while\n"
     ]
    }
   ],
   "source": [
    "j=1\n",
    "for j in range (1,3):\n",
    "    print(j, \"Es un ciclo for\")\n",
    "    while(j<4):\n",
    "        j=j+1\n",
    "        print(j, \"Es un ciclo while\")"
   ]
  },
  {
   "attachments": {},
   "cell_type": "markdown",
   "metadata": {},
   "source": [
    "9) Imprimir los números primos existentes entre 0 y 30 EVALUAR ERROR PORQUE ME SALE MAL LAS CIFRAS"
   ]
  },
  {
   "cell_type": "code",
   "execution_count": 72,
   "metadata": {},
   "outputs": [
    {
     "name": "stdout",
     "output_type": "stream",
     "text": [
      "El número 2 si es un número primo\n",
      "El número 3 si es un número primo\n",
      "El número 4 no es un número primo\n",
      "El número 4 si es un número primo\n",
      "El número 5 si es un número primo\n",
      "El número 6 no es un número primo\n",
      "El número 6 no es un número primo\n",
      "El número 6 si es un número primo\n",
      "El número 7 si es un número primo\n",
      "El número 8 no es un número primo\n",
      "El número 8 no es un número primo\n",
      "El número 8 si es un número primo\n",
      "El número 9 no es un número primo\n",
      "El número 9 si es un número primo\n",
      "El número 10 no es un número primo\n",
      "El número 10 no es un número primo\n",
      "El número 10 si es un número primo\n",
      "El número 11 si es un número primo\n",
      "El número 12 no es un número primo\n",
      "El número 12 no es un número primo\n",
      "El número 12 no es un número primo\n",
      "El número 12 no es un número primo\n",
      "El número 12 si es un número primo\n",
      "El número 13 si es un número primo\n",
      "El número 14 no es un número primo\n",
      "El número 14 no es un número primo\n",
      "El número 14 si es un número primo\n",
      "El número 15 no es un número primo\n",
      "El número 15 no es un número primo\n",
      "El número 15 si es un número primo\n",
      "El número 16 no es un número primo\n",
      "El número 16 no es un número primo\n",
      "El número 16 no es un número primo\n",
      "El número 16 si es un número primo\n",
      "El número 17 si es un número primo\n",
      "El número 18 no es un número primo\n",
      "El número 18 no es un número primo\n",
      "El número 18 no es un número primo\n",
      "El número 18 no es un número primo\n",
      "El número 18 si es un número primo\n",
      "El número 19 si es un número primo\n",
      "El número 20 no es un número primo\n",
      "El número 20 no es un número primo\n",
      "El número 20 no es un número primo\n",
      "El número 20 no es un número primo\n",
      "El número 20 si es un número primo\n",
      "El número 21 no es un número primo\n",
      "El número 21 no es un número primo\n",
      "El número 21 si es un número primo\n",
      "El número 22 no es un número primo\n",
      "El número 22 no es un número primo\n",
      "El número 22 si es un número primo\n",
      "El número 23 si es un número primo\n",
      "El número 24 no es un número primo\n",
      "El número 24 no es un número primo\n",
      "El número 24 no es un número primo\n",
      "El número 24 no es un número primo\n",
      "El número 24 no es un número primo\n",
      "El número 24 no es un número primo\n",
      "El número 24 si es un número primo\n",
      "El número 25 no es un número primo\n",
      "El número 25 si es un número primo\n",
      "El número 26 no es un número primo\n",
      "El número 26 no es un número primo\n",
      "El número 26 si es un número primo\n",
      "El número 27 no es un número primo\n",
      "El número 27 no es un número primo\n",
      "El número 27 si es un número primo\n",
      "El número 28 no es un número primo\n",
      "El número 28 no es un número primo\n",
      "El número 28 no es un número primo\n",
      "El número 28 no es un número primo\n",
      "El número 28 si es un número primo\n",
      "El número 29 si es un número primo\n",
      "El número 30 no es un número primo\n",
      "El número 30 no es un número primo\n",
      "El número 30 no es un número primo\n",
      "El número 30 no es un número primo\n",
      "El número 30 no es un número primo\n",
      "El número 30 no es un número primo\n",
      "El número 30 si es un número primo\n"
     ]
    }
   ],
   "source": [
    "for k in range (2,31):\n",
    "    for l in range(2,k):\n",
    "        if k%l==0:\n",
    "            print(\"El número \"+str(k)+\" no es un número primo\")\n",
    "    else:\n",
    "        print(\"El número \"+str(k)+\" si es un número primo\")"
   ]
  },
  {
   "attachments": {},
   "cell_type": "markdown",
   "metadata": {},
   "source": [
    "10) ¿Se puede mejorar el proceso del punto 9? Utilizar las sentencias break y/ó continue para tal fin\n"
   ]
  },
  {
   "cell_type": "code",
   "execution_count": 31,
   "metadata": {},
   "outputs": [
    {
     "name": "stdout",
     "output_type": "stream",
     "text": [
      "El número 2 si es un número primo\n",
      "El número 3 si es un número primo\n",
      "El número 5 si es un número primo\n",
      "El número 7 si es un número primo\n",
      "El número 11 si es un número primo\n",
      "El número 13 si es un número primo\n",
      "El número 17 si es un número primo\n",
      "El número 19 si es un número primo\n",
      "El número 23 si es un número primo\n",
      "El número 29 si es un número primo\n"
     ]
    }
   ],
   "source": [
    "for k in range (2,31):\n",
    "    for l in range(2,k):\n",
    "        if k%l==0:\n",
    "            break\n",
    "    else:\n",
    "        print(\"El número \"+str(k)+\" si es un número primo\")\n"
   ]
  },
  {
   "attachments": {},
   "cell_type": "markdown",
   "metadata": {},
   "source": [
    "11) En los puntos 9 y 10, se diseño un código que encuentra números primos y además se lo optimizó. ¿Es posible saber en qué medida se optimizó? "
   ]
  },
  {
   "cell_type": "code",
   "execution_count": 46,
   "metadata": {},
   "outputs": [
    {
     "name": "stdout",
     "output_type": "stream",
     "text": [
      "El número 2 si es un número primo\n",
      "El número 3 si es un número primo\n",
      "El número 4 no es un número primo\n",
      "El número 4 si es un número primo\n",
      "El número 5 si es un número primo\n",
      "El número 6 no es un número primo\n",
      "El número 6 no es un número primo\n",
      "El número 6 si es un número primo\n",
      "El número 7 si es un número primo\n",
      "El número 8 no es un número primo\n",
      "El número 8 no es un número primo\n",
      "El número 8 si es un número primo\n",
      "El número 9 no es un número primo\n",
      "El número 9 si es un número primo\n",
      "El número 10 no es un número primo\n",
      "El número 10 no es un número primo\n",
      "El número 10 si es un número primo\n",
      "El número 11 si es un número primo\n",
      "El número 12 no es un número primo\n",
      "El número 12 no es un número primo\n",
      "El número 12 no es un número primo\n",
      "El número 12 no es un número primo\n",
      "El número 12 si es un número primo\n",
      "El número 13 si es un número primo\n",
      "El número 14 no es un número primo\n",
      "El número 14 no es un número primo\n",
      "El número 14 si es un número primo\n",
      "El número 15 no es un número primo\n",
      "El número 15 no es un número primo\n",
      "El número 15 si es un número primo\n",
      "El número 16 no es un número primo\n",
      "El número 16 no es un número primo\n",
      "El número 16 no es un número primo\n",
      "El número 16 si es un número primo\n",
      "El número 17 si es un número primo\n",
      "El número 18 no es un número primo\n",
      "El número 18 no es un número primo\n",
      "El número 18 no es un número primo\n",
      "El número 18 no es un número primo\n",
      "El número 18 si es un número primo\n",
      "El número 19 si es un número primo\n",
      "El número 20 no es un número primo\n",
      "El número 20 no es un número primo\n",
      "El número 20 no es un número primo\n",
      "El número 20 no es un número primo\n",
      "El número 20 si es un número primo\n",
      "El número 21 no es un número primo\n",
      "El número 21 no es un número primo\n",
      "El número 21 si es un número primo\n",
      "El número 22 no es un número primo\n",
      "El número 22 no es un número primo\n",
      "El número 22 si es un número primo\n",
      "El número 23 si es un número primo\n",
      "El número 24 no es un número primo\n",
      "El número 24 no es un número primo\n",
      "El número 24 no es un número primo\n",
      "El número 24 no es un número primo\n",
      "El número 24 no es un número primo\n",
      "El número 24 no es un número primo\n",
      "El número 24 si es un número primo\n",
      "El número 25 no es un número primo\n",
      "El número 25 si es un número primo\n",
      "El número 26 no es un número primo\n",
      "El número 26 no es un número primo\n",
      "El número 26 si es un número primo\n",
      "El número 27 no es un número primo\n",
      "El número 27 no es un número primo\n",
      "El número 27 si es un número primo\n",
      "El número 28 no es un número primo\n",
      "El número 28 no es un número primo\n",
      "El número 28 no es un número primo\n",
      "El número 28 no es un número primo\n",
      "El número 28 si es un número primo\n",
      "El número 29 si es un número primo\n",
      "El número 30 no es un número primo\n",
      "El número 30 no es un número primo\n",
      "El número 30 no es un número primo\n",
      "El número 30 no es un número primo\n",
      "El número 30 no es un número primo\n",
      "El número 30 no es un número primo\n",
      "El número 30 si es un número primo\n",
      "Cantidad de ciclos 406\n"
     ]
    }
   ],
   "source": [
    "ciclos_sin_break=0\n",
    "for k in range (2,31):\n",
    "    for l in range(2,k):\n",
    "        ciclos_sin_break+=1\n",
    "        if k%l==0:\n",
    "            print(\"El número \"+str(k)+\" no es un número primo\")\n",
    "    else:\n",
    "        print(\"El número \"+str(k)+\" si es un número primo\")\n",
    "print(\"Cantidad de ciclos \"+str(ciclos_sin_break))"
   ]
  },
  {
   "cell_type": "code",
   "execution_count": 67,
   "metadata": {},
   "outputs": [
    {
     "name": "stdout",
     "output_type": "stream",
     "text": [
      "El número 2 si es un número primo\n",
      "El número 3 si es un número primo\n",
      "El número 5 si es un número primo\n",
      "El número 7 si es un número primo\n",
      "El número 11 si es un número primo\n",
      "El número 13 si es un número primo\n",
      "El número 17 si es un número primo\n",
      "El número 19 si es un número primo\n",
      "El número 23 si es un número primo\n",
      "El número 29 si es un número primo\n",
      "Cantidad de ciclos 135\n",
      "Diferencia entre ambos ejercicios 33.2512\n"
     ]
    }
   ],
   "source": [
    "ciclos_con_break=0\n",
    "for k in range (2,31):\n",
    "    for l in range(2,k):\n",
    "        ciclos_con_break+=1\n",
    "        if k%l==0:\n",
    "            break\n",
    "    else:\n",
    "        print(\"El número \"+str(k)+\" si es un número primo\")\n",
    "print(\"Cantidad de ciclos \"+str(ciclos_con_break))\n",
    "print(\"Diferencia entre ambos ejercicios \"+str((round(ciclos_con_break/ciclos_sin_break, 6))*100))"
   ]
  },
  {
   "cell_type": "markdown",
   "metadata": {},
   "source": [
    "\n",
    "12) Si la cantidad de números que se evalúa es mayor a treinta, esa optimización crece?\n"
   ]
  },
  {
   "cell_type": "code",
   "execution_count": 68,
   "metadata": {},
   "outputs": [
    {
     "name": "stdout",
     "output_type": "stream",
     "text": [
      "El número 2 si es un número primo\n",
      "El número 3 si es un número primo\n",
      "El número 4 no es un número primo\n",
      "El número 4 si es un número primo\n",
      "El número 5 si es un número primo\n",
      "El número 6 no es un número primo\n",
      "El número 6 no es un número primo\n",
      "El número 6 si es un número primo\n",
      "El número 7 si es un número primo\n",
      "El número 8 no es un número primo\n",
      "El número 8 no es un número primo\n",
      "El número 8 si es un número primo\n",
      "El número 9 no es un número primo\n",
      "El número 9 si es un número primo\n",
      "El número 10 no es un número primo\n",
      "El número 10 no es un número primo\n",
      "El número 10 si es un número primo\n",
      "El número 11 si es un número primo\n",
      "El número 12 no es un número primo\n",
      "El número 12 no es un número primo\n",
      "El número 12 no es un número primo\n",
      "El número 12 no es un número primo\n",
      "El número 12 si es un número primo\n",
      "El número 13 si es un número primo\n",
      "El número 14 no es un número primo\n",
      "El número 14 no es un número primo\n",
      "El número 14 si es un número primo\n",
      "El número 15 no es un número primo\n",
      "El número 15 no es un número primo\n",
      "El número 15 si es un número primo\n",
      "El número 16 no es un número primo\n",
      "El número 16 no es un número primo\n",
      "El número 16 no es un número primo\n",
      "El número 16 si es un número primo\n",
      "El número 17 si es un número primo\n",
      "El número 18 no es un número primo\n",
      "El número 18 no es un número primo\n",
      "El número 18 no es un número primo\n",
      "El número 18 no es un número primo\n",
      "El número 18 si es un número primo\n",
      "El número 19 si es un número primo\n",
      "El número 20 no es un número primo\n",
      "El número 20 no es un número primo\n",
      "El número 20 no es un número primo\n",
      "El número 20 no es un número primo\n",
      "El número 20 si es un número primo\n",
      "El número 21 no es un número primo\n",
      "El número 21 no es un número primo\n",
      "El número 21 si es un número primo\n",
      "El número 22 no es un número primo\n",
      "El número 22 no es un número primo\n",
      "El número 22 si es un número primo\n",
      "El número 23 si es un número primo\n",
      "El número 24 no es un número primo\n",
      "El número 24 no es un número primo\n",
      "El número 24 no es un número primo\n",
      "El número 24 no es un número primo\n",
      "El número 24 no es un número primo\n",
      "El número 24 no es un número primo\n",
      "El número 24 si es un número primo\n",
      "El número 25 no es un número primo\n",
      "El número 25 si es un número primo\n",
      "El número 26 no es un número primo\n",
      "El número 26 no es un número primo\n",
      "El número 26 si es un número primo\n",
      "El número 27 no es un número primo\n",
      "El número 27 no es un número primo\n",
      "El número 27 si es un número primo\n",
      "El número 28 no es un número primo\n",
      "El número 28 no es un número primo\n",
      "El número 28 no es un número primo\n",
      "El número 28 no es un número primo\n",
      "El número 28 si es un número primo\n",
      "El número 29 si es un número primo\n",
      "El número 30 no es un número primo\n",
      "El número 30 no es un número primo\n",
      "El número 30 no es un número primo\n",
      "El número 30 no es un número primo\n",
      "El número 30 no es un número primo\n",
      "El número 30 no es un número primo\n",
      "El número 30 si es un número primo\n",
      "El número 31 si es un número primo\n",
      "El número 32 no es un número primo\n",
      "El número 32 no es un número primo\n",
      "El número 32 no es un número primo\n",
      "El número 32 no es un número primo\n",
      "El número 32 si es un número primo\n",
      "El número 33 no es un número primo\n",
      "El número 33 no es un número primo\n",
      "El número 33 si es un número primo\n",
      "El número 34 no es un número primo\n",
      "El número 34 no es un número primo\n",
      "El número 34 si es un número primo\n",
      "El número 35 no es un número primo\n",
      "El número 35 no es un número primo\n",
      "El número 35 si es un número primo\n",
      "El número 36 no es un número primo\n",
      "El número 36 no es un número primo\n",
      "El número 36 no es un número primo\n",
      "El número 36 no es un número primo\n",
      "El número 36 no es un número primo\n",
      "El número 36 no es un número primo\n",
      "El número 36 no es un número primo\n",
      "El número 36 si es un número primo\n",
      "El número 37 si es un número primo\n",
      "El número 38 no es un número primo\n",
      "El número 38 no es un número primo\n",
      "El número 38 si es un número primo\n",
      "El número 39 no es un número primo\n",
      "El número 39 no es un número primo\n",
      "El número 39 si es un número primo\n",
      "El número 40 no es un número primo\n",
      "El número 40 no es un número primo\n",
      "El número 40 no es un número primo\n",
      "El número 40 no es un número primo\n",
      "El número 40 no es un número primo\n",
      "El número 40 no es un número primo\n",
      "El número 40 si es un número primo\n",
      "El número 41 si es un número primo\n",
      "El número 42 no es un número primo\n",
      "El número 42 no es un número primo\n",
      "El número 42 no es un número primo\n",
      "El número 42 no es un número primo\n",
      "El número 42 no es un número primo\n",
      "El número 42 no es un número primo\n",
      "El número 42 si es un número primo\n",
      "El número 43 si es un número primo\n",
      "El número 44 no es un número primo\n",
      "El número 44 no es un número primo\n",
      "El número 44 no es un número primo\n",
      "El número 44 no es un número primo\n",
      "El número 44 si es un número primo\n",
      "El número 45 no es un número primo\n",
      "El número 45 no es un número primo\n",
      "El número 45 no es un número primo\n",
      "El número 45 no es un número primo\n",
      "El número 45 si es un número primo\n",
      "El número 46 no es un número primo\n",
      "El número 46 no es un número primo\n",
      "El número 46 si es un número primo\n",
      "El número 47 si es un número primo\n",
      "El número 48 no es un número primo\n",
      "El número 48 no es un número primo\n",
      "El número 48 no es un número primo\n",
      "El número 48 no es un número primo\n",
      "El número 48 no es un número primo\n",
      "El número 48 no es un número primo\n",
      "El número 48 no es un número primo\n",
      "El número 48 no es un número primo\n",
      "El número 48 si es un número primo\n",
      "El número 49 no es un número primo\n",
      "El número 49 si es un número primo\n",
      "El número 50 no es un número primo\n",
      "El número 50 no es un número primo\n",
      "El número 50 no es un número primo\n",
      "El número 50 no es un número primo\n",
      "El número 50 si es un número primo\n",
      "El número 51 no es un número primo\n",
      "El número 51 no es un número primo\n",
      "El número 51 si es un número primo\n",
      "El número 52 no es un número primo\n",
      "El número 52 no es un número primo\n",
      "El número 52 no es un número primo\n",
      "El número 52 no es un número primo\n",
      "El número 52 si es un número primo\n",
      "El número 53 si es un número primo\n",
      "El número 54 no es un número primo\n",
      "El número 54 no es un número primo\n",
      "El número 54 no es un número primo\n",
      "El número 54 no es un número primo\n",
      "El número 54 no es un número primo\n",
      "El número 54 no es un número primo\n",
      "El número 54 si es un número primo\n",
      "El número 55 no es un número primo\n",
      "El número 55 no es un número primo\n",
      "El número 55 si es un número primo\n",
      "El número 56 no es un número primo\n",
      "El número 56 no es un número primo\n",
      "El número 56 no es un número primo\n",
      "El número 56 no es un número primo\n",
      "El número 56 no es un número primo\n",
      "El número 56 no es un número primo\n",
      "El número 56 si es un número primo\n",
      "El número 57 no es un número primo\n",
      "El número 57 no es un número primo\n",
      "El número 57 si es un número primo\n",
      "El número 58 no es un número primo\n",
      "El número 58 no es un número primo\n",
      "El número 58 si es un número primo\n",
      "El número 59 si es un número primo\n",
      "El número 60 no es un número primo\n",
      "El número 60 no es un número primo\n",
      "El número 60 no es un número primo\n",
      "El número 60 no es un número primo\n",
      "El número 60 no es un número primo\n",
      "El número 60 no es un número primo\n",
      "El número 60 no es un número primo\n",
      "El número 60 no es un número primo\n",
      "El número 60 no es un número primo\n",
      "El número 60 no es un número primo\n",
      "El número 60 si es un número primo\n",
      "El número 61 si es un número primo\n",
      "El número 62 no es un número primo\n",
      "El número 62 no es un número primo\n",
      "El número 62 si es un número primo\n",
      "El número 63 no es un número primo\n",
      "El número 63 no es un número primo\n",
      "El número 63 no es un número primo\n",
      "El número 63 no es un número primo\n",
      "El número 63 si es un número primo\n",
      "El número 64 no es un número primo\n",
      "El número 64 no es un número primo\n",
      "El número 64 no es un número primo\n",
      "El número 64 no es un número primo\n",
      "El número 64 no es un número primo\n",
      "El número 64 si es un número primo\n",
      "El número 65 no es un número primo\n",
      "El número 65 no es un número primo\n",
      "El número 65 si es un número primo\n",
      "El número 66 no es un número primo\n",
      "El número 66 no es un número primo\n",
      "El número 66 no es un número primo\n",
      "El número 66 no es un número primo\n",
      "El número 66 no es un número primo\n",
      "El número 66 no es un número primo\n",
      "El número 66 si es un número primo\n",
      "El número 67 si es un número primo\n",
      "El número 68 no es un número primo\n",
      "El número 68 no es un número primo\n",
      "El número 68 no es un número primo\n",
      "El número 68 no es un número primo\n",
      "El número 68 si es un número primo\n",
      "El número 69 no es un número primo\n",
      "El número 69 no es un número primo\n",
      "El número 69 si es un número primo\n",
      "El número 70 no es un número primo\n",
      "El número 70 no es un número primo\n",
      "El número 70 no es un número primo\n",
      "El número 70 no es un número primo\n",
      "El número 70 no es un número primo\n",
      "El número 70 no es un número primo\n",
      "El número 70 si es un número primo\n",
      "El número 71 si es un número primo\n",
      "El número 72 no es un número primo\n",
      "El número 72 no es un número primo\n",
      "El número 72 no es un número primo\n",
      "El número 72 no es un número primo\n",
      "El número 72 no es un número primo\n",
      "El número 72 no es un número primo\n",
      "El número 72 no es un número primo\n",
      "El número 72 no es un número primo\n",
      "El número 72 no es un número primo\n",
      "El número 72 no es un número primo\n",
      "El número 72 si es un número primo\n",
      "El número 73 si es un número primo\n",
      "El número 74 no es un número primo\n",
      "El número 74 no es un número primo\n",
      "El número 74 si es un número primo\n",
      "El número 75 no es un número primo\n",
      "El número 75 no es un número primo\n",
      "El número 75 no es un número primo\n",
      "El número 75 no es un número primo\n",
      "El número 75 si es un número primo\n",
      "El número 76 no es un número primo\n",
      "El número 76 no es un número primo\n",
      "El número 76 no es un número primo\n",
      "El número 76 no es un número primo\n",
      "El número 76 si es un número primo\n",
      "El número 77 no es un número primo\n",
      "El número 77 no es un número primo\n",
      "El número 77 si es un número primo\n",
      "El número 78 no es un número primo\n",
      "El número 78 no es un número primo\n",
      "El número 78 no es un número primo\n",
      "El número 78 no es un número primo\n",
      "El número 78 no es un número primo\n",
      "El número 78 no es un número primo\n",
      "El número 78 si es un número primo\n",
      "El número 79 si es un número primo\n",
      "El número 80 no es un número primo\n",
      "El número 80 no es un número primo\n",
      "El número 80 no es un número primo\n",
      "El número 80 no es un número primo\n",
      "El número 80 no es un número primo\n",
      "El número 80 no es un número primo\n",
      "El número 80 no es un número primo\n",
      "El número 80 no es un número primo\n",
      "El número 80 si es un número primo\n",
      "El número 81 no es un número primo\n",
      "El número 81 no es un número primo\n",
      "El número 81 no es un número primo\n",
      "El número 81 si es un número primo\n",
      "El número 82 no es un número primo\n",
      "El número 82 no es un número primo\n",
      "El número 82 si es un número primo\n",
      "El número 83 si es un número primo\n",
      "El número 84 no es un número primo\n",
      "El número 84 no es un número primo\n",
      "El número 84 no es un número primo\n",
      "El número 84 no es un número primo\n",
      "El número 84 no es un número primo\n",
      "El número 84 no es un número primo\n",
      "El número 84 no es un número primo\n",
      "El número 84 no es un número primo\n",
      "El número 84 no es un número primo\n",
      "El número 84 no es un número primo\n",
      "El número 84 si es un número primo\n",
      "El número 85 no es un número primo\n",
      "El número 85 no es un número primo\n",
      "El número 85 si es un número primo\n",
      "El número 86 no es un número primo\n",
      "El número 86 no es un número primo\n",
      "El número 86 si es un número primo\n",
      "El número 87 no es un número primo\n",
      "El número 87 no es un número primo\n",
      "El número 87 si es un número primo\n",
      "El número 88 no es un número primo\n",
      "El número 88 no es un número primo\n",
      "El número 88 no es un número primo\n",
      "El número 88 no es un número primo\n",
      "El número 88 no es un número primo\n",
      "El número 88 no es un número primo\n",
      "El número 88 si es un número primo\n",
      "El número 89 si es un número primo\n",
      "El número 90 no es un número primo\n",
      "El número 90 no es un número primo\n",
      "El número 90 no es un número primo\n",
      "El número 90 no es un número primo\n",
      "El número 90 no es un número primo\n",
      "El número 90 no es un número primo\n",
      "El número 90 no es un número primo\n",
      "El número 90 no es un número primo\n",
      "El número 90 no es un número primo\n",
      "El número 90 no es un número primo\n",
      "El número 90 si es un número primo\n",
      "El número 91 no es un número primo\n",
      "El número 91 no es un número primo\n",
      "El número 91 si es un número primo\n",
      "El número 92 no es un número primo\n",
      "El número 92 no es un número primo\n",
      "El número 92 no es un número primo\n",
      "El número 92 no es un número primo\n",
      "El número 92 si es un número primo\n",
      "El número 93 no es un número primo\n",
      "El número 93 no es un número primo\n",
      "El número 93 si es un número primo\n",
      "El número 94 no es un número primo\n",
      "El número 94 no es un número primo\n",
      "El número 94 si es un número primo\n",
      "El número 95 no es un número primo\n",
      "El número 95 no es un número primo\n",
      "El número 95 si es un número primo\n",
      "El número 96 no es un número primo\n",
      "El número 96 no es un número primo\n",
      "El número 96 no es un número primo\n",
      "El número 96 no es un número primo\n",
      "El número 96 no es un número primo\n",
      "El número 96 no es un número primo\n",
      "El número 96 no es un número primo\n",
      "El número 96 no es un número primo\n",
      "El número 96 no es un número primo\n",
      "El número 96 no es un número primo\n",
      "El número 96 si es un número primo\n",
      "El número 97 si es un número primo\n",
      "El número 98 no es un número primo\n",
      "El número 98 no es un número primo\n",
      "El número 98 no es un número primo\n",
      "El número 98 no es un número primo\n",
      "El número 98 si es un número primo\n",
      "El número 99 no es un número primo\n",
      "El número 99 no es un número primo\n",
      "El número 99 no es un número primo\n",
      "El número 99 no es un número primo\n",
      "El número 99 si es un número primo\n",
      "Cantidad de ciclos 4753\n"
     ]
    }
   ],
   "source": [
    "ciclos_sin_break=0\n",
    "for k in range (2,100):\n",
    "    for l in range(2,k):\n",
    "        ciclos_sin_break+=1\n",
    "        if k%l==0:\n",
    "            print(\"El número \"+str(k)+\" no es un número primo\")\n",
    "    else:\n",
    "        print(\"El número \"+str(k)+\" si es un número primo\")\n",
    "print(\"Cantidad de ciclos \"+str(ciclos_sin_break))"
   ]
  },
  {
   "cell_type": "code",
   "execution_count": 71,
   "metadata": {},
   "outputs": [
    {
     "name": "stdout",
     "output_type": "stream",
     "text": [
      "El número 2 si es un número primo\n",
      "El número 3 si es un número primo\n",
      "El número 5 si es un número primo\n",
      "El número 7 si es un número primo\n",
      "El número 11 si es un número primo\n",
      "El número 13 si es un número primo\n",
      "El número 17 si es un número primo\n",
      "El número 19 si es un número primo\n",
      "El número 23 si es un número primo\n",
      "El número 29 si es un número primo\n",
      "El número 31 si es un número primo\n",
      "El número 37 si es un número primo\n",
      "El número 41 si es un número primo\n",
      "El número 43 si es un número primo\n",
      "El número 47 si es un número primo\n",
      "El número 53 si es un número primo\n",
      "El número 59 si es un número primo\n",
      "El número 61 si es un número primo\n",
      "El número 67 si es un número primo\n",
      "El número 71 si es un número primo\n",
      "El número 73 si es un número primo\n",
      "El número 79 si es un número primo\n",
      "El número 83 si es un número primo\n",
      "El número 89 si es un número primo\n",
      "El número 97 si es un número primo\n",
      "Cantidad de ciclos 1132\n",
      "Diferencia entre ambos ejercicios 23.816499999999998\n"
     ]
    }
   ],
   "source": [
    "ciclos_con_break=0\n",
    "for k in range (2,100):\n",
    "    for l in range(2,k):\n",
    "        ciclos_con_break+=1\n",
    "        if k%l==0:\n",
    "            break\n",
    "    else:\n",
    "        print(\"El número \"+str(k)+\" si es un número primo\")\n",
    "print(\"Cantidad de ciclos \"+str(ciclos_con_break))\n",
    "print(\"Diferencia entre ambos ejercicios \"+str((round(ciclos_con_break/ciclos_sin_break,6))*100))"
   ]
  },
  {
   "attachments": {},
   "cell_type": "markdown",
   "metadata": {},
   "source": [
    "13) Aplicando continue, armar un ciclo while que solo imprima los valores divisibles por 12, dentro del rango de números de 100 a 300\n"
   ]
  },
  {
   "cell_type": "code",
   "execution_count": 76,
   "metadata": {},
   "outputs": [
    {
     "name": "stdout",
     "output_type": "stream",
     "text": [
      "El numero 108 es divisible por 12\n",
      "El numero 120 es divisible por 12\n",
      "El numero 132 es divisible por 12\n",
      "El numero 144 es divisible por 12\n",
      "El numero 156 es divisible por 12\n",
      "El numero 168 es divisible por 12\n",
      "El numero 180 es divisible por 12\n",
      "El numero 192 es divisible por 12\n",
      "El numero 204 es divisible por 12\n",
      "El numero 216 es divisible por 12\n",
      "El numero 228 es divisible por 12\n",
      "El numero 240 es divisible por 12\n",
      "El numero 252 es divisible por 12\n",
      "El numero 264 es divisible por 12\n",
      "El numero 276 es divisible por 12\n",
      "El numero 288 es divisible por 12\n",
      "El numero 300 es divisible por 12\n"
     ]
    }
   ],
   "source": [
    "k=99\n",
    "while(k<300):\n",
    "    k=k+1\n",
    "    if k%12!=0:\n",
    "        continue\n",
    "    else:\n",
    "        print(\"El numero\",k,\"es divisible por 12\")"
   ]
  },
  {
   "attachments": {},
   "cell_type": "markdown",
   "metadata": {},
   "source": [
    "14) Utilizar la función **input()** que permite hacer ingresos por teclado, para encontrar números primos y dar la opción al usario de buscar el siguiente VER FUNCIÓN INPUT\n"
   ]
  },
  {
   "cell_type": "code",
   "execution_count": 80,
   "metadata": {},
   "outputs": [
    {
     "ename": "TypeError",
     "evalue": "'>' not supported between instances of 'str' and 'int'",
     "output_type": "error",
     "traceback": [
      "\u001b[1;31m---------------------------------------------------------------------------\u001b[0m",
      "\u001b[1;31mTypeError\u001b[0m                                 Traceback (most recent call last)",
      "Cell \u001b[1;32mIn[80], line 2\u001b[0m\n\u001b[0;32m      1\u001b[0m m\u001b[39m=\u001b[39m\u001b[39minput\u001b[39m(\u001b[39m\"\u001b[39m\u001b[39mIngrese aquí su número\u001b[39m\u001b[39m\"\u001b[39m)\n\u001b[1;32m----> 2\u001b[0m \u001b[39mwhile\u001b[39;00m(m\u001b[39m>\u001b[39;49m\u001b[39m0\u001b[39;49m):\n\u001b[0;32m      3\u001b[0m     \u001b[39mif\u001b[39;00m m\u001b[39m%\u001b[39m\u001b[39m2\u001b[39m \u001b[39m==\u001b[39m \u001b[39m0\u001b[39m:\n\u001b[0;32m      4\u001b[0m         \u001b[39mprint\u001b[39m(\u001b[39m\"\u001b[39m\u001b[39mEl numero\u001b[39m\u001b[39m\"\u001b[39m,m,\u001b[39m\"\u001b[39m\u001b[39mno es un numero primo\u001b[39m\u001b[39m\"\u001b[39m)\n",
      "\u001b[1;31mTypeError\u001b[0m: '>' not supported between instances of 'str' and 'int'"
     ]
    }
   ],
   "source": [
    "m=input(\"Ingrese aquí su número\")\n",
    "while(m>0):\n",
    "    if m%2 == 0:\n",
    "        print(\"El numero\",m,\"no es un numero primo\")\n",
    "    else:\n",
    "        print(\"El numero\",m,\"es un numero primo\")\n",
    "    print(\"El número debe ser mayor a 0\")    "
   ]
  },
  {
   "cell_type": "markdown",
   "metadata": {},
   "source": [
    "\n",
    "15) Crear un ciclo while que encuentre dentro del rango de 100 a 300 el primer número divisible por 3 y además múltiplo de 6\n"
   ]
  },
  {
   "cell_type": "code",
   "execution_count": 5,
   "metadata": {},
   "outputs": [
    {
     "name": "stdout",
     "output_type": "stream",
     "text": [
      "El numero 102 es el primer número divisible por 3 y múltiplo de 6\n"
     ]
    }
   ],
   "source": [
    "k=99\n",
    "while(k<300):\n",
    "    k=k+1\n",
    "    if k%6!=0:\n",
    "        continue\n",
    "    else:\n",
    "        print(\"El numero \"+str(k)+\" es el primer número divisible por 3 y múltiplo de 6\")\n",
    "        break"
   ]
  }
 ],
 "metadata": {
  "kernelspec": {
   "display_name": "Python 3",
   "language": "python",
   "name": "python3"
  },
  "language_info": {
   "codemirror_mode": {
    "name": "ipython",
    "version": 3
   },
   "file_extension": ".py",
   "mimetype": "text/x-python",
   "name": "python",
   "nbconvert_exporter": "python",
   "pygments_lexer": "ipython3",
   "version": "3.10.9"
  },
  "orig_nbformat": 4,
  "vscode": {
   "interpreter": {
    "hash": "01c1b94cb7ebdbe78d62d0627060d9f397cf6e23d9564c4ea21859c204504f7a"
   }
  }
 },
 "nbformat": 4,
 "nbformat_minor": 2
}
